{
 "cells": [
  {
   "cell_type": "markdown",
   "metadata": {},
   "source": [
    "### Read and clean the data"
   ]
  },
  {
   "cell_type": "code",
   "execution_count": 2,
   "metadata": {},
   "outputs": [],
   "source": [
    "import pandas as pd\n",
    "import numpy as np\n",
    "import matplotlib.pyplot as plt\n",
    "import seaborn as sns"
   ]
  },
  {
   "cell_type": "code",
   "execution_count": 3,
   "metadata": {},
   "outputs": [
    {
     "data": {
      "text/html": [
       "<div>\n",
       "<style scoped>\n",
       "    .dataframe tbody tr th:only-of-type {\n",
       "        vertical-align: middle;\n",
       "    }\n",
       "\n",
       "    .dataframe tbody tr th {\n",
       "        vertical-align: top;\n",
       "    }\n",
       "\n",
       "    .dataframe thead th {\n",
       "        text-align: right;\n",
       "    }\n",
       "</style>\n",
       "<table border=\"1\" class=\"dataframe\">\n",
       "  <thead>\n",
       "    <tr style=\"text-align: right;\">\n",
       "      <th></th>\n",
       "      <th>public_id</th>\n",
       "      <th>text</th>\n",
       "      <th>title</th>\n",
       "      <th>our rating</th>\n",
       "    </tr>\n",
       "  </thead>\n",
       "  <tbody>\n",
       "    <tr>\n",
       "      <th>0</th>\n",
       "      <td>5a228e0e</td>\n",
       "      <td>Distracted driving causes more deaths in Canad...</td>\n",
       "      <td>You Can Be Fined $1,500 If Your Passenger Is U...</td>\n",
       "      <td>false</td>\n",
       "    </tr>\n",
       "    <tr>\n",
       "      <th>1</th>\n",
       "      <td>30c605a1</td>\n",
       "      <td>Missouri politicians have made statements afte...</td>\n",
       "      <td>Missouri lawmakers condemn Las Vegas shooting</td>\n",
       "      <td>mixture</td>\n",
       "    </tr>\n",
       "    <tr>\n",
       "      <th>2</th>\n",
       "      <td>c3dea290</td>\n",
       "      <td>Home Alone 2: Lost in New York is full of viol...</td>\n",
       "      <td>CBC Cuts Donald Trump's 'Home Alone 2' Cameo O...</td>\n",
       "      <td>mixture</td>\n",
       "    </tr>\n",
       "    <tr>\n",
       "      <th>3</th>\n",
       "      <td>f14e8eb6</td>\n",
       "      <td>But things took a turn for the worse when riot...</td>\n",
       "      <td>Obama’s Daughters Caught on Camera Burning US ...</td>\n",
       "      <td>false</td>\n",
       "    </tr>\n",
       "    <tr>\n",
       "      <th>4</th>\n",
       "      <td>faf024d6</td>\n",
       "      <td>It’s no secret that Epstein and Schiff share a...</td>\n",
       "      <td>Leaked Visitor Logs Reveal Schiff’s 78 Visits ...</td>\n",
       "      <td>false</td>\n",
       "    </tr>\n",
       "  </tbody>\n",
       "</table>\n",
       "</div>"
      ],
      "text/plain": [
       "  public_id                                               text  \\\n",
       "0  5a228e0e  Distracted driving causes more deaths in Canad...   \n",
       "1  30c605a1  Missouri politicians have made statements afte...   \n",
       "2  c3dea290  Home Alone 2: Lost in New York is full of viol...   \n",
       "3  f14e8eb6  But things took a turn for the worse when riot...   \n",
       "4  faf024d6  It’s no secret that Epstein and Schiff share a...   \n",
       "\n",
       "                                               title our rating  \n",
       "0  You Can Be Fined $1,500 If Your Passenger Is U...      false  \n",
       "1      Missouri lawmakers condemn Las Vegas shooting    mixture  \n",
       "2  CBC Cuts Donald Trump's 'Home Alone 2' Cameo O...    mixture  \n",
       "3  Obama’s Daughters Caught on Camera Burning US ...      false  \n",
       "4  Leaked Visitor Logs Reveal Schiff’s 78 Visits ...      false  "
      ]
     },
     "execution_count": 3,
     "metadata": {},
     "output_type": "execute_result"
    }
   ],
   "source": [
    "df = pd.read_csv('HAI817_Projet_train.csv')\n",
    "df.head()"
   ]
  },
  {
   "cell_type": "code",
   "execution_count": 4,
   "metadata": {},
   "outputs": [
    {
     "data": {
      "text/plain": [
       "(1264, 4)"
      ]
     },
     "execution_count": 4,
     "metadata": {},
     "output_type": "execute_result"
    }
   ],
   "source": [
    "# nombre de lignes et de colonnes\n",
    "df.shape"
   ]
  },
  {
   "cell_type": "code",
   "execution_count": 5,
   "metadata": {},
   "outputs": [
    {
     "data": {
      "text/plain": [
       "public_id      0\n",
       "text           0\n",
       "title         23\n",
       "our rating     0\n",
       "dtype: int64"
      ]
     },
     "execution_count": 5,
     "metadata": {},
     "output_type": "execute_result"
    }
   ],
   "source": [
    "# on count le nombre de valeurs manquantes par colonne\n",
    "df.isnull().sum()"
   ]
  },
  {
   "cell_type": "code",
   "execution_count": 6,
   "metadata": {},
   "outputs": [
    {
     "data": {
      "text/html": [
       "<div>\n",
       "<style scoped>\n",
       "    .dataframe tbody tr th:only-of-type {\n",
       "        vertical-align: middle;\n",
       "    }\n",
       "\n",
       "    .dataframe tbody tr th {\n",
       "        vertical-align: top;\n",
       "    }\n",
       "\n",
       "    .dataframe thead th {\n",
       "        text-align: right;\n",
       "    }\n",
       "</style>\n",
       "<table border=\"1\" class=\"dataframe\">\n",
       "  <thead>\n",
       "    <tr style=\"text-align: right;\">\n",
       "      <th></th>\n",
       "      <th>public_id</th>\n",
       "      <th>text</th>\n",
       "      <th>title</th>\n",
       "      <th>our rating</th>\n",
       "    </tr>\n",
       "  </thead>\n",
       "  <tbody>\n",
       "    <tr>\n",
       "      <th>483</th>\n",
       "      <td>ef45cf0b</td>\n",
       "      <td>Full Text of SB0042 100th General Assembly Jul...</td>\n",
       "      <td>NaN</td>\n",
       "      <td>mixture</td>\n",
       "    </tr>\n",
       "    <tr>\n",
       "      <th>510</th>\n",
       "      <td>10cfd37c</td>\n",
       "      <td>HON. STEFAN I. MYCHAJLIW ERIE COUNTY COMPTROLL...</td>\n",
       "      <td>NaN</td>\n",
       "      <td>mixture</td>\n",
       "    </tr>\n",
       "    <tr>\n",
       "      <th>533</th>\n",
       "      <td>9d2b111d</td>\n",
       "      <td>False Postulates#Neither the rate nor the magn...</td>\n",
       "      <td>NaN</td>\n",
       "      <td>mixture</td>\n",
       "    </tr>\n",
       "    <tr>\n",
       "      <th>555</th>\n",
       "      <td>17717174</td>\n",
       "      <td>Elisa Granato, the first volunteer who availed...</td>\n",
       "      <td>NaN</td>\n",
       "      <td>false</td>\n",
       "    </tr>\n",
       "    <tr>\n",
       "      <th>565</th>\n",
       "      <td>8a9e86f3</td>\n",
       "      <td>Regulation promotes self-sufficiency and immig...</td>\n",
       "      <td>NaN</td>\n",
       "      <td>false</td>\n",
       "    </tr>\n",
       "    <tr>\n",
       "      <th>590</th>\n",
       "      <td>fe823860</td>\n",
       "      <td>In the last year, the Reserve Bank of India bo...</td>\n",
       "      <td>NaN</td>\n",
       "      <td>false</td>\n",
       "    </tr>\n",
       "    <tr>\n",
       "      <th>591</th>\n",
       "      <td>42f280e8</td>\n",
       "      <td>PRIMARY school kids donned masks and had their...</td>\n",
       "      <td>NaN</td>\n",
       "      <td>true</td>\n",
       "    </tr>\n",
       "    <tr>\n",
       "      <th>608</th>\n",
       "      <td>53d111d0</td>\n",
       "      <td>The primary school population in England has c...</td>\n",
       "      <td>NaN</td>\n",
       "      <td>mixture</td>\n",
       "    </tr>\n",
       "    <tr>\n",
       "      <th>690</th>\n",
       "      <td>46c1c680</td>\n",
       "      <td>People tired of tough decade had hopes for the...</td>\n",
       "      <td>NaN</td>\n",
       "      <td>mixture</td>\n",
       "    </tr>\n",
       "    <tr>\n",
       "      <th>742</th>\n",
       "      <td>6b94e779</td>\n",
       "      <td>Historians may look to 2015 as the year when s...</td>\n",
       "      <td>NaN</td>\n",
       "      <td>other</td>\n",
       "    </tr>\n",
       "    <tr>\n",
       "      <th>767</th>\n",
       "      <td>57eba0b9</td>\n",
       "      <td>According to NOAA’s own historical data, of th...</td>\n",
       "      <td>NaN</td>\n",
       "      <td>other</td>\n",
       "    </tr>\n",
       "    <tr>\n",
       "      <th>774</th>\n",
       "      <td>f2cf61ca</td>\n",
       "      <td>An 18-year-old United States citizen has been ...</td>\n",
       "      <td>NaN</td>\n",
       "      <td>true</td>\n",
       "    </tr>\n",
       "    <tr>\n",
       "      <th>797</th>\n",
       "      <td>eac62836</td>\n",
       "      <td>Get US and UK politics insight with our free d...</td>\n",
       "      <td>NaN</td>\n",
       "      <td>true</td>\n",
       "    </tr>\n",
       "    <tr>\n",
       "      <th>863</th>\n",
       "      <td>6378a0ff</td>\n",
       "      <td>A coalition of civil society groups has descri...</td>\n",
       "      <td>NaN</td>\n",
       "      <td>true</td>\n",
       "    </tr>\n",
       "    <tr>\n",
       "      <th>879</th>\n",
       "      <td>bf3f6fdb</td>\n",
       "      <td>MOSCOW, August 13. /TASS/. The United States’ ...</td>\n",
       "      <td>NaN</td>\n",
       "      <td>mixture</td>\n",
       "    </tr>\n",
       "    <tr>\n",
       "      <th>898</th>\n",
       "      <td>842ac903</td>\n",
       "      <td>Rep. Leon Young figures the Wisconsin Legislat...</td>\n",
       "      <td>NaN</td>\n",
       "      <td>false</td>\n",
       "    </tr>\n",
       "    <tr>\n",
       "      <th>923</th>\n",
       "      <td>842ac903</td>\n",
       "      <td>Rep. Leon Young figures the Wisconsin Legislat...</td>\n",
       "      <td>NaN</td>\n",
       "      <td>false</td>\n",
       "    </tr>\n",
       "    <tr>\n",
       "      <th>944</th>\n",
       "      <td>53d111d0</td>\n",
       "      <td>The primary school population in England has c...</td>\n",
       "      <td>NaN</td>\n",
       "      <td>mixture</td>\n",
       "    </tr>\n",
       "    <tr>\n",
       "      <th>988</th>\n",
       "      <td>17717174</td>\n",
       "      <td>Elisa Granato, the first volunteer who availed...</td>\n",
       "      <td>NaN</td>\n",
       "      <td>false</td>\n",
       "    </tr>\n",
       "    <tr>\n",
       "      <th>1022</th>\n",
       "      <td>10cfd37c</td>\n",
       "      <td>HON. STEFAN I. MYCHAJLIW ERIE COUNTY COMPTROLL...</td>\n",
       "      <td>NaN</td>\n",
       "      <td>mixture</td>\n",
       "    </tr>\n",
       "    <tr>\n",
       "      <th>1025</th>\n",
       "      <td>bf3f6fdb</td>\n",
       "      <td>MOSCOW, August 13. /TASS/. The United States’ ...</td>\n",
       "      <td>NaN</td>\n",
       "      <td>mixture</td>\n",
       "    </tr>\n",
       "    <tr>\n",
       "      <th>1037</th>\n",
       "      <td>fe823860</td>\n",
       "      <td>In the last year, the Reserve Bank of India bo...</td>\n",
       "      <td>NaN</td>\n",
       "      <td>false</td>\n",
       "    </tr>\n",
       "    <tr>\n",
       "      <th>1038</th>\n",
       "      <td>6378a0ff</td>\n",
       "      <td>A coalition of civil society groups has descri...</td>\n",
       "      <td>NaN</td>\n",
       "      <td>true</td>\n",
       "    </tr>\n",
       "  </tbody>\n",
       "</table>\n",
       "</div>"
      ],
      "text/plain": [
       "     public_id                                               text title  \\\n",
       "483   ef45cf0b  Full Text of SB0042 100th General Assembly Jul...   NaN   \n",
       "510   10cfd37c  HON. STEFAN I. MYCHAJLIW ERIE COUNTY COMPTROLL...   NaN   \n",
       "533   9d2b111d  False Postulates#Neither the rate nor the magn...   NaN   \n",
       "555   17717174  Elisa Granato, the first volunteer who availed...   NaN   \n",
       "565   8a9e86f3  Regulation promotes self-sufficiency and immig...   NaN   \n",
       "590   fe823860  In the last year, the Reserve Bank of India bo...   NaN   \n",
       "591   42f280e8  PRIMARY school kids donned masks and had their...   NaN   \n",
       "608   53d111d0  The primary school population in England has c...   NaN   \n",
       "690   46c1c680  People tired of tough decade had hopes for the...   NaN   \n",
       "742   6b94e779  Historians may look to 2015 as the year when s...   NaN   \n",
       "767   57eba0b9  According to NOAA’s own historical data, of th...   NaN   \n",
       "774   f2cf61ca  An 18-year-old United States citizen has been ...   NaN   \n",
       "797   eac62836  Get US and UK politics insight with our free d...   NaN   \n",
       "863   6378a0ff  A coalition of civil society groups has descri...   NaN   \n",
       "879   bf3f6fdb  MOSCOW, August 13. /TASS/. The United States’ ...   NaN   \n",
       "898   842ac903  Rep. Leon Young figures the Wisconsin Legislat...   NaN   \n",
       "923   842ac903  Rep. Leon Young figures the Wisconsin Legislat...   NaN   \n",
       "944   53d111d0  The primary school population in England has c...   NaN   \n",
       "988   17717174  Elisa Granato, the first volunteer who availed...   NaN   \n",
       "1022  10cfd37c  HON. STEFAN I. MYCHAJLIW ERIE COUNTY COMPTROLL...   NaN   \n",
       "1025  bf3f6fdb  MOSCOW, August 13. /TASS/. The United States’ ...   NaN   \n",
       "1037  fe823860  In the last year, the Reserve Bank of India bo...   NaN   \n",
       "1038  6378a0ff  A coalition of civil society groups has descri...   NaN   \n",
       "\n",
       "     our rating  \n",
       "483     mixture  \n",
       "510     mixture  \n",
       "533     mixture  \n",
       "555       false  \n",
       "565       false  \n",
       "590       false  \n",
       "591        true  \n",
       "608     mixture  \n",
       "690     mixture  \n",
       "742       other  \n",
       "767       other  \n",
       "774        true  \n",
       "797        true  \n",
       "863        true  \n",
       "879     mixture  \n",
       "898       false  \n",
       "923       false  \n",
       "944     mixture  \n",
       "988       false  \n",
       "1022    mixture  \n",
       "1025    mixture  \n",
       "1037      false  \n",
       "1038       true  "
      ]
     },
     "execution_count": 6,
     "metadata": {},
     "output_type": "execute_result"
    }
   ],
   "source": [
    "# afficher les lignes ou le title est manquant\n",
    "df[df['title'].isnull()]"
   ]
  },
  {
   "cell_type": "code",
   "execution_count": 7,
   "metadata": {},
   "outputs": [
    {
     "data": {
      "text/plain": [
       "1115"
      ]
     },
     "execution_count": 7,
     "metadata": {},
     "output_type": "execute_result"
    }
   ],
   "source": [
    "# afficher le nombres de valeurs uniques dans 'public_id' \n",
    "df['public_id'].nunique()"
   ]
  },
  {
   "cell_type": "code",
   "execution_count": 8,
   "metadata": {},
   "outputs": [
    {
     "data": {
      "text/plain": [
       "public_id      0\n",
       "text           0\n",
       "title         16\n",
       "our rating     0\n",
       "dtype: int64"
      ]
     },
     "execution_count": 8,
     "metadata": {},
     "output_type": "execute_result"
    }
   ],
   "source": [
    "# supprimer les lignes en doublons\n",
    "df = df.drop_duplicates(subset='public_id')\n",
    "\n",
    "# on count le nombre de valeurs manquantes par colonne\n",
    "df.isnull().sum()"
   ]
  },
  {
   "cell_type": "code",
   "execution_count": 9,
   "metadata": {},
   "outputs": [
    {
     "data": {
      "text/html": [
       "<div>\n",
       "<style scoped>\n",
       "    .dataframe tbody tr th:only-of-type {\n",
       "        vertical-align: middle;\n",
       "    }\n",
       "\n",
       "    .dataframe tbody tr th {\n",
       "        vertical-align: top;\n",
       "    }\n",
       "\n",
       "    .dataframe thead th {\n",
       "        text-align: right;\n",
       "    }\n",
       "</style>\n",
       "<table border=\"1\" class=\"dataframe\">\n",
       "  <thead>\n",
       "    <tr style=\"text-align: right;\">\n",
       "      <th></th>\n",
       "      <th>public_id</th>\n",
       "      <th>text</th>\n",
       "      <th>title</th>\n",
       "      <th>our rating</th>\n",
       "    </tr>\n",
       "  </thead>\n",
       "  <tbody>\n",
       "    <tr>\n",
       "      <th>483</th>\n",
       "      <td>ef45cf0b</td>\n",
       "      <td>Full Text of SB0042 100th General Assembly Jul...</td>\n",
       "      <td>NaN</td>\n",
       "      <td>mixture</td>\n",
       "    </tr>\n",
       "    <tr>\n",
       "      <th>510</th>\n",
       "      <td>10cfd37c</td>\n",
       "      <td>HON. STEFAN I. MYCHAJLIW ERIE COUNTY COMPTROLL...</td>\n",
       "      <td>NaN</td>\n",
       "      <td>mixture</td>\n",
       "    </tr>\n",
       "    <tr>\n",
       "      <th>533</th>\n",
       "      <td>9d2b111d</td>\n",
       "      <td>False Postulates#Neither the rate nor the magn...</td>\n",
       "      <td>NaN</td>\n",
       "      <td>mixture</td>\n",
       "    </tr>\n",
       "    <tr>\n",
       "      <th>555</th>\n",
       "      <td>17717174</td>\n",
       "      <td>Elisa Granato, the first volunteer who availed...</td>\n",
       "      <td>NaN</td>\n",
       "      <td>false</td>\n",
       "    </tr>\n",
       "    <tr>\n",
       "      <th>565</th>\n",
       "      <td>8a9e86f3</td>\n",
       "      <td>Regulation promotes self-sufficiency and immig...</td>\n",
       "      <td>NaN</td>\n",
       "      <td>false</td>\n",
       "    </tr>\n",
       "    <tr>\n",
       "      <th>590</th>\n",
       "      <td>fe823860</td>\n",
       "      <td>In the last year, the Reserve Bank of India bo...</td>\n",
       "      <td>NaN</td>\n",
       "      <td>false</td>\n",
       "    </tr>\n",
       "    <tr>\n",
       "      <th>591</th>\n",
       "      <td>42f280e8</td>\n",
       "      <td>PRIMARY school kids donned masks and had their...</td>\n",
       "      <td>NaN</td>\n",
       "      <td>true</td>\n",
       "    </tr>\n",
       "    <tr>\n",
       "      <th>608</th>\n",
       "      <td>53d111d0</td>\n",
       "      <td>The primary school population in England has c...</td>\n",
       "      <td>NaN</td>\n",
       "      <td>mixture</td>\n",
       "    </tr>\n",
       "    <tr>\n",
       "      <th>690</th>\n",
       "      <td>46c1c680</td>\n",
       "      <td>People tired of tough decade had hopes for the...</td>\n",
       "      <td>NaN</td>\n",
       "      <td>mixture</td>\n",
       "    </tr>\n",
       "    <tr>\n",
       "      <th>742</th>\n",
       "      <td>6b94e779</td>\n",
       "      <td>Historians may look to 2015 as the year when s...</td>\n",
       "      <td>NaN</td>\n",
       "      <td>other</td>\n",
       "    </tr>\n",
       "    <tr>\n",
       "      <th>767</th>\n",
       "      <td>57eba0b9</td>\n",
       "      <td>According to NOAA’s own historical data, of th...</td>\n",
       "      <td>NaN</td>\n",
       "      <td>other</td>\n",
       "    </tr>\n",
       "    <tr>\n",
       "      <th>774</th>\n",
       "      <td>f2cf61ca</td>\n",
       "      <td>An 18-year-old United States citizen has been ...</td>\n",
       "      <td>NaN</td>\n",
       "      <td>true</td>\n",
       "    </tr>\n",
       "    <tr>\n",
       "      <th>797</th>\n",
       "      <td>eac62836</td>\n",
       "      <td>Get US and UK politics insight with our free d...</td>\n",
       "      <td>NaN</td>\n",
       "      <td>true</td>\n",
       "    </tr>\n",
       "    <tr>\n",
       "      <th>863</th>\n",
       "      <td>6378a0ff</td>\n",
       "      <td>A coalition of civil society groups has descri...</td>\n",
       "      <td>NaN</td>\n",
       "      <td>true</td>\n",
       "    </tr>\n",
       "    <tr>\n",
       "      <th>879</th>\n",
       "      <td>bf3f6fdb</td>\n",
       "      <td>MOSCOW, August 13. /TASS/. The United States’ ...</td>\n",
       "      <td>NaN</td>\n",
       "      <td>mixture</td>\n",
       "    </tr>\n",
       "    <tr>\n",
       "      <th>898</th>\n",
       "      <td>842ac903</td>\n",
       "      <td>Rep. Leon Young figures the Wisconsin Legislat...</td>\n",
       "      <td>NaN</td>\n",
       "      <td>false</td>\n",
       "    </tr>\n",
       "  </tbody>\n",
       "</table>\n",
       "</div>"
      ],
      "text/plain": [
       "    public_id                                               text title  \\\n",
       "483  ef45cf0b  Full Text of SB0042 100th General Assembly Jul...   NaN   \n",
       "510  10cfd37c  HON. STEFAN I. MYCHAJLIW ERIE COUNTY COMPTROLL...   NaN   \n",
       "533  9d2b111d  False Postulates#Neither the rate nor the magn...   NaN   \n",
       "555  17717174  Elisa Granato, the first volunteer who availed...   NaN   \n",
       "565  8a9e86f3  Regulation promotes self-sufficiency and immig...   NaN   \n",
       "590  fe823860  In the last year, the Reserve Bank of India bo...   NaN   \n",
       "591  42f280e8  PRIMARY school kids donned masks and had their...   NaN   \n",
       "608  53d111d0  The primary school population in England has c...   NaN   \n",
       "690  46c1c680  People tired of tough decade had hopes for the...   NaN   \n",
       "742  6b94e779  Historians may look to 2015 as the year when s...   NaN   \n",
       "767  57eba0b9  According to NOAA’s own historical data, of th...   NaN   \n",
       "774  f2cf61ca  An 18-year-old United States citizen has been ...   NaN   \n",
       "797  eac62836  Get US and UK politics insight with our free d...   NaN   \n",
       "863  6378a0ff  A coalition of civil society groups has descri...   NaN   \n",
       "879  bf3f6fdb  MOSCOW, August 13. /TASS/. The United States’ ...   NaN   \n",
       "898  842ac903  Rep. Leon Young figures the Wisconsin Legislat...   NaN   \n",
       "\n",
       "    our rating  \n",
       "483    mixture  \n",
       "510    mixture  \n",
       "533    mixture  \n",
       "555      false  \n",
       "565      false  \n",
       "590      false  \n",
       "591       true  \n",
       "608    mixture  \n",
       "690    mixture  \n",
       "742      other  \n",
       "767      other  \n",
       "774       true  \n",
       "797       true  \n",
       "863       true  \n",
       "879    mixture  \n",
       "898      false  "
      ]
     },
     "execution_count": 9,
     "metadata": {},
     "output_type": "execute_result"
    }
   ],
   "source": [
    "# afficher les lignes ou le title est manquant\n",
    "df[df['title'].isnull()]"
   ]
  },
  {
   "cell_type": "code",
   "execution_count": 10,
   "metadata": {},
   "outputs": [],
   "source": [
    "# supprimer les lignes ou le title est manquant\n",
    "df = df.dropna(subset=['title'])"
   ]
  },
  {
   "cell_type": "code",
   "execution_count": 11,
   "metadata": {},
   "outputs": [
    {
     "data": {
      "text/plain": [
       "public_id     0\n",
       "text          0\n",
       "title         0\n",
       "our rating    0\n",
       "dtype: int64"
      ]
     },
     "execution_count": 11,
     "metadata": {},
     "output_type": "execute_result"
    }
   ],
   "source": [
    "df.isnull().sum()"
   ]
  },
  {
   "cell_type": "code",
   "execution_count": 12,
   "metadata": {},
   "outputs": [
    {
     "data": {
      "text/html": [
       "<div>\n",
       "<style scoped>\n",
       "    .dataframe tbody tr th:only-of-type {\n",
       "        vertical-align: middle;\n",
       "    }\n",
       "\n",
       "    .dataframe tbody tr th {\n",
       "        vertical-align: top;\n",
       "    }\n",
       "\n",
       "    .dataframe thead th {\n",
       "        text-align: right;\n",
       "    }\n",
       "</style>\n",
       "<table border=\"1\" class=\"dataframe\">\n",
       "  <thead>\n",
       "    <tr style=\"text-align: right;\">\n",
       "      <th></th>\n",
       "      <th>public_id</th>\n",
       "      <th>text</th>\n",
       "      <th>title</th>\n",
       "      <th>our rating</th>\n",
       "    </tr>\n",
       "  </thead>\n",
       "  <tbody>\n",
       "    <tr>\n",
       "      <th>31</th>\n",
       "      <td>da55bc13</td>\n",
       "      <td>It is absolutely right that across this House ...</td>\n",
       "      <td>Wednesday 25 April 2018</td>\n",
       "      <td>true</td>\n",
       "    </tr>\n",
       "    <tr>\n",
       "      <th>37</th>\n",
       "      <td>673f05fa</td>\n",
       "      <td>Manchin and Capito Introduce Legislation to Im...</td>\n",
       "      <td>Manchin and Capito Introduce Legislation to Im...</td>\n",
       "      <td>true</td>\n",
       "    </tr>\n",
       "    <tr>\n",
       "      <th>62</th>\n",
       "      <td>bbf4d6a7</td>\n",
       "      <td>WASHINGTON, D.C. — Ohio Treasurer Josh Mandel,...</td>\n",
       "      <td>Josh Mandel discloses finances, showing his wi...</td>\n",
       "      <td>true</td>\n",
       "    </tr>\n",
       "    <tr>\n",
       "      <th>73</th>\n",
       "      <td>b57fd483</td>\n",
       "      <td>BUFFALO, N.Y. WKBW — As people stay home to he...</td>\n",
       "      <td>Gas prices have dropped, but in N.Y. state the...</td>\n",
       "      <td>true</td>\n",
       "    </tr>\n",
       "    <tr>\n",
       "      <th>82</th>\n",
       "      <td>eaf36480</td>\n",
       "      <td>SHARE  By of the  Republican state Rep. Jeff S...</td>\n",
       "      <td>Stone touts Walker template in run for county ...</td>\n",
       "      <td>true</td>\n",
       "    </tr>\n",
       "    <tr>\n",
       "      <th>...</th>\n",
       "      <td>...</td>\n",
       "      <td>...</td>\n",
       "      <td>...</td>\n",
       "      <td>...</td>\n",
       "    </tr>\n",
       "    <tr>\n",
       "      <th>1245</th>\n",
       "      <td>d0b0e459</td>\n",
       "      <td>Scientists have long known about the anomalous...</td>\n",
       "      <td>Global Ocean Circulation Appears To Be Collaps...</td>\n",
       "      <td>true</td>\n",
       "    </tr>\n",
       "    <tr>\n",
       "      <th>1259</th>\n",
       "      <td>47423bb6</td>\n",
       "      <td>More than four million calls to the taxman are...</td>\n",
       "      <td>Taxman fails to answer four million calls a ye...</td>\n",
       "      <td>true</td>\n",
       "    </tr>\n",
       "    <tr>\n",
       "      <th>1260</th>\n",
       "      <td>097c142a</td>\n",
       "      <td>More under-18s are being taken to court for se...</td>\n",
       "      <td>Police catch 11‑year‑olds being used to sell d...</td>\n",
       "      <td>true</td>\n",
       "    </tr>\n",
       "    <tr>\n",
       "      <th>1262</th>\n",
       "      <td>af3393ce</td>\n",
       "      <td>The late Robin Williams once called cocaine “G...</td>\n",
       "      <td>A coke-snorting generation of hypocrites</td>\n",
       "      <td>true</td>\n",
       "    </tr>\n",
       "    <tr>\n",
       "      <th>1263</th>\n",
       "      <td>a39d07df</td>\n",
       "      <td>The late Robin Williams once called cocaine “G...</td>\n",
       "      <td>A coke-snorting generation of hypocrites</td>\n",
       "      <td>true</td>\n",
       "    </tr>\n",
       "  </tbody>\n",
       "</table>\n",
       "<p>197 rows × 4 columns</p>\n",
       "</div>"
      ],
      "text/plain": [
       "     public_id                                               text  \\\n",
       "31    da55bc13  It is absolutely right that across this House ...   \n",
       "37    673f05fa  Manchin and Capito Introduce Legislation to Im...   \n",
       "62    bbf4d6a7  WASHINGTON, D.C. — Ohio Treasurer Josh Mandel,...   \n",
       "73    b57fd483  BUFFALO, N.Y. WKBW — As people stay home to he...   \n",
       "82    eaf36480  SHARE  By of the  Republican state Rep. Jeff S...   \n",
       "...        ...                                                ...   \n",
       "1245  d0b0e459  Scientists have long known about the anomalous...   \n",
       "1259  47423bb6  More than four million calls to the taxman are...   \n",
       "1260  097c142a  More under-18s are being taken to court for se...   \n",
       "1262  af3393ce  The late Robin Williams once called cocaine “G...   \n",
       "1263  a39d07df  The late Robin Williams once called cocaine “G...   \n",
       "\n",
       "                                                  title our rating  \n",
       "31                              Wednesday 25 April 2018       true  \n",
       "37    Manchin and Capito Introduce Legislation to Im...       true  \n",
       "62    Josh Mandel discloses finances, showing his wi...       true  \n",
       "73    Gas prices have dropped, but in N.Y. state the...       true  \n",
       "82    Stone touts Walker template in run for county ...       true  \n",
       "...                                                 ...        ...  \n",
       "1245  Global Ocean Circulation Appears To Be Collaps...       true  \n",
       "1259  Taxman fails to answer four million calls a ye...       true  \n",
       "1260  Police catch 11‑year‑olds being used to sell d...       true  \n",
       "1262           A coke-snorting generation of hypocrites       true  \n",
       "1263           A coke-snorting generation of hypocrites       true  \n",
       "\n",
       "[197 rows x 4 columns]"
      ]
     },
     "execution_count": 12,
     "metadata": {},
     "output_type": "execute_result"
    }
   ],
   "source": [
    "# afficher les lignes ou 'our rating\" == true\n",
    "df[df['our rating'] == 'true']"
   ]
  },
  {
   "cell_type": "code",
   "execution_count": 13,
   "metadata": {},
   "outputs": [
    {
     "data": {
      "text/plain": [
       "our rating\n",
       "false      496\n",
       "mixture    312\n",
       "true       197\n",
       "other       94\n",
       "Name: count, dtype: int64"
      ]
     },
     "execution_count": 13,
     "metadata": {},
     "output_type": "execute_result"
    }
   ],
   "source": [
    "# compter toutes les valeurs uniques de la colonne 'our rating'\n",
    "df['our rating'].value_counts()"
   ]
  },
  {
   "cell_type": "code",
   "execution_count": 14,
   "metadata": {},
   "outputs": [
    {
     "data": {
      "text/html": [
       "<div>\n",
       "<style scoped>\n",
       "    .dataframe tbody tr th:only-of-type {\n",
       "        vertical-align: middle;\n",
       "    }\n",
       "\n",
       "    .dataframe tbody tr th {\n",
       "        vertical-align: top;\n",
       "    }\n",
       "\n",
       "    .dataframe thead th {\n",
       "        text-align: right;\n",
       "    }\n",
       "</style>\n",
       "<table border=\"1\" class=\"dataframe\">\n",
       "  <thead>\n",
       "    <tr style=\"text-align: right;\">\n",
       "      <th></th>\n",
       "      <th>public_id</th>\n",
       "      <th>text</th>\n",
       "      <th>title</th>\n",
       "      <th>our rating</th>\n",
       "    </tr>\n",
       "  </thead>\n",
       "  <tbody>\n",
       "    <tr>\n",
       "      <th>0</th>\n",
       "      <td>5a228e0e</td>\n",
       "      <td>distracted driving causes more deaths in canad...</td>\n",
       "      <td>you can be fined $1,500 if your passenger is u...</td>\n",
       "      <td>false</td>\n",
       "    </tr>\n",
       "    <tr>\n",
       "      <th>1</th>\n",
       "      <td>30c605a1</td>\n",
       "      <td>missouri politicians have made statements afte...</td>\n",
       "      <td>missouri lawmakers condemn las vegas shooting</td>\n",
       "      <td>mixture</td>\n",
       "    </tr>\n",
       "    <tr>\n",
       "      <th>2</th>\n",
       "      <td>c3dea290</td>\n",
       "      <td>home alone 2: lost in new york is full of viol...</td>\n",
       "      <td>cbc cuts donald trump's 'home alone 2' cameo o...</td>\n",
       "      <td>mixture</td>\n",
       "    </tr>\n",
       "    <tr>\n",
       "      <th>3</th>\n",
       "      <td>f14e8eb6</td>\n",
       "      <td>but things took a turn for the worse when riot...</td>\n",
       "      <td>obama’s daughters caught on camera burning us ...</td>\n",
       "      <td>false</td>\n",
       "    </tr>\n",
       "    <tr>\n",
       "      <th>4</th>\n",
       "      <td>faf024d6</td>\n",
       "      <td>it’s no secret that epstein and schiff share a...</td>\n",
       "      <td>leaked visitor logs reveal schiff’s 78 visits ...</td>\n",
       "      <td>false</td>\n",
       "    </tr>\n",
       "  </tbody>\n",
       "</table>\n",
       "</div>"
      ],
      "text/plain": [
       "  public_id                                               text  \\\n",
       "0  5a228e0e  distracted driving causes more deaths in canad...   \n",
       "1  30c605a1  missouri politicians have made statements afte...   \n",
       "2  c3dea290  home alone 2: lost in new york is full of viol...   \n",
       "3  f14e8eb6  but things took a turn for the worse when riot...   \n",
       "4  faf024d6  it’s no secret that epstein and schiff share a...   \n",
       "\n",
       "                                               title our rating  \n",
       "0  you can be fined $1,500 if your passenger is u...      false  \n",
       "1      missouri lawmakers condemn las vegas shooting    mixture  \n",
       "2  cbc cuts donald trump's 'home alone 2' cameo o...    mixture  \n",
       "3  obama’s daughters caught on camera burning us ...      false  \n",
       "4  leaked visitor logs reveal schiff’s 78 visits ...      false  "
      ]
     },
     "execution_count": 14,
     "metadata": {},
     "output_type": "execute_result"
    }
   ],
   "source": [
    "# mettre tout les valeurs de titre et texte en minuscules\n",
    "df['title'] = df['title'].str.lower() \n",
    "df['text'] = df['text'].str.lower()\n",
    "df.head()"
   ]
  },
  {
   "cell_type": "code",
   "execution_count": 15,
   "metadata": {},
   "outputs": [
    {
     "name": "stderr",
     "output_type": "stream",
     "text": [
      "[nltk_data] Downloading package stopwords to /home/jalal/nltk_data...\n",
      "[nltk_data]   Package stopwords is already up-to-date!\n"
     ]
    },
    {
     "data": {
      "text/plain": [
       "'distracted driving causes deaths canada impaired driving it’s every province territory laws driving operating cell phone “tell passengers stay phones driving measures necessary now distracted driving claimed lives impaired driving provinces like british columbia ontario quebec alberta nova scotia manitoba newfoundland labrador “mobile phones even held passenger dangerous distraction driver starting next week distracted screen held passenger attracts penalty $1500 three demerit points “drivers screens mix – doesn’t matter holding device using facetime taking selfies driver showing driver funny cat video no-no” provinces mobile phone categorised “visual display unit” meaning considered akin television screen it’s important practice safe driving sake fellow drivers canada cracking distracted driving problem rollout stricter laws impose harsher penalties heftier fines guilty offenders it’s taking effect next week  adds serious penalties convicted distracted driving'"
      ]
     },
     "execution_count": 15,
     "metadata": {},
     "output_type": "execute_result"
    }
   ],
   "source": [
    "# suppression des ponctuations et stopwords\n",
    "import string\n",
    "import nltk\n",
    "from nltk.corpus import stopwords\n",
    "nltk.download('stopwords')\n",
    "stop = stopwords.words('english')\n",
    "df['title'] = df['title'].apply(lambda x: ' '.join([word for word in x.split() if word not in (stop)]))\n",
    "df['text'] = df['text'].apply(lambda x: ' '.join([word for word in x.split() if word not in (stop)]))\n",
    "df['title'] = df['title'].str.replace('[{}]'.format(string.punctuation), '')\n",
    "df['text'] = df['text'].str.replace('[{}]'.format(string.punctuation), '')\n",
    "df.head()\n",
    "\n",
    "\n",
    "\n",
    "#supprimet les virgules et les points des texts\n",
    "df['text'] = df['text'].str.replace(',', '')\n",
    "df['text'] = df['text'].str.replace('.', '')\n",
    "\n",
    "#affiche moi la 1ere ligne \n",
    "df['text'][0]"
   ]
  },
  {
   "cell_type": "code",
   "execution_count": 16,
   "metadata": {},
   "outputs": [
    {
     "data": {
      "text/html": [
       "<div>\n",
       "<style scoped>\n",
       "    .dataframe tbody tr th:only-of-type {\n",
       "        vertical-align: middle;\n",
       "    }\n",
       "\n",
       "    .dataframe tbody tr th {\n",
       "        vertical-align: top;\n",
       "    }\n",
       "\n",
       "    .dataframe thead th {\n",
       "        text-align: right;\n",
       "    }\n",
       "</style>\n",
       "<table border=\"1\" class=\"dataframe\">\n",
       "  <thead>\n",
       "    <tr style=\"text-align: right;\">\n",
       "      <th></th>\n",
       "      <th>public_id</th>\n",
       "      <th>text</th>\n",
       "      <th>title</th>\n",
       "      <th>our rating</th>\n",
       "    </tr>\n",
       "  </thead>\n",
       "  <tbody>\n",
       "    <tr>\n",
       "      <th>0</th>\n",
       "      <td>5a228e0e</td>\n",
       "      <td>distract drive caus death canada impair drive ...</td>\n",
       "      <td>fine $1,500 passeng use mobil phone, start nex...</td>\n",
       "      <td>false</td>\n",
       "    </tr>\n",
       "    <tr>\n",
       "      <th>1</th>\n",
       "      <td>30c605a1</td>\n",
       "      <td>missouri politician made statement mass shoot ...</td>\n",
       "      <td>missouri lawmak condemn la vega shoot</td>\n",
       "      <td>mixture</td>\n",
       "    </tr>\n",
       "    <tr>\n",
       "      <th>2</th>\n",
       "      <td>c3dea290</td>\n",
       "      <td>home alon 2: lost new york full violenc that o...</td>\n",
       "      <td>cbc cut donald trump' 'home alon 2' cameo broa...</td>\n",
       "      <td>mixture</td>\n",
       "    </tr>\n",
       "    <tr>\n",
       "      <th>3</th>\n",
       "      <td>f14e8eb6</td>\n",
       "      <td>thing took turn wors riot polic fire tear ga r...</td>\n",
       "      <td>obama’ daughter caught camera burn us flag dc ...</td>\n",
       "      <td>false</td>\n",
       "    </tr>\n",
       "    <tr>\n",
       "      <th>4</th>\n",
       "      <td>faf024d6</td>\n",
       "      <td>it’ secret epstein schiff share long histori p...</td>\n",
       "      <td>leak visitor log reveal schiff’ 78 visit epste...</td>\n",
       "      <td>false</td>\n",
       "    </tr>\n",
       "  </tbody>\n",
       "</table>\n",
       "</div>"
      ],
      "text/plain": [
       "  public_id                                               text  \\\n",
       "0  5a228e0e  distract drive caus death canada impair drive ...   \n",
       "1  30c605a1  missouri politician made statement mass shoot ...   \n",
       "2  c3dea290  home alon 2: lost new york full violenc that o...   \n",
       "3  f14e8eb6  thing took turn wors riot polic fire tear ga r...   \n",
       "4  faf024d6  it’ secret epstein schiff share long histori p...   \n",
       "\n",
       "                                               title our rating  \n",
       "0  fine $1,500 passeng use mobil phone, start nex...      false  \n",
       "1              missouri lawmak condemn la vega shoot    mixture  \n",
       "2  cbc cut donald trump' 'home alon 2' cameo broa...    mixture  \n",
       "3  obama’ daughter caught camera burn us flag dc ...      false  \n",
       "4  leak visitor log reveal schiff’ 78 visit epste...      false  "
      ]
     },
     "execution_count": 16,
     "metadata": {},
     "output_type": "execute_result"
    }
   ],
   "source": [
    "# supprimer les 'Stem'\n",
    "from nltk.stem import PorterStemmer\n",
    "stemmer = PorterStemmer()\n",
    "df['title'] = df['title'].apply(lambda x: ' '.join([stemmer.stem(word) for word in x.split()]))\n",
    "df['text'] = df['text'].apply(lambda x: ' '.join([stemmer.stem(word) for word in x.split()]))\n",
    "df.head()"
   ]
  },
  {
   "cell_type": "code",
   "execution_count": 17,
   "metadata": {},
   "outputs": [
    {
     "data": {
      "text/plain": [
       "public_id     0\n",
       "text          0\n",
       "title         0\n",
       "our rating    0\n",
       "dtype: int64"
      ]
     },
     "execution_count": 17,
     "metadata": {},
     "output_type": "execute_result"
    }
   ],
   "source": [
    "# Cheak for Nons after all data cleaning\n",
    "df.isnull().sum()"
   ]
  },
  {
   "cell_type": "markdown",
   "metadata": {},
   "source": [
    "### Data analysis"
   ]
  },
  {
   "cell_type": "code",
   "execution_count": 18,
   "metadata": {},
   "outputs": [
    {
     "data": {
      "text/plain": [
       "<Axes: title={'center': \"nombre de 'our rating' par catégorie\"}, xlabel='our rating'>"
      ]
     },
     "execution_count": 18,
     "metadata": {},
     "output_type": "execute_result"
    },
    {
     "data": {
      "image/png": "[encoded data removed]",
      "text/plain": [
       "<Figure size 640x480 with 1 Axes>"
      ]
     },
     "metadata": {},
     "output_type": "display_data"
    }
   ],
   "source": [
    "# histogramme de la colonne 'our rating'\n",
    "df['our rating'].value_counts().plot(kind='bar', title=\"nombre de 'our rating' par catégorie\")"
   ]
  },
  {
   "cell_type": "code",
   "execution_count": 19,
   "metadata": {},
   "outputs": [
    {
     "data": {
      "text/plain": [
       "<Axes: title={'center': 'Distribution de la taille des textes'}, ylabel='Frequency'>"
      ]
     },
     "execution_count": 19,
     "metadata": {},
     "output_type": "execute_result"
    },
    {
     "data": {
      "image/png": "[encoded data removed]",
      "text/plain": [
       "<Figure size 640x480 with 1 Axes>"
      ]
     },
     "metadata": {},
     "output_type": "display_data"
    }
   ],
   "source": [
    "# faire un affichage de la taille des textes\n",
    "df['text'].apply(lambda x: len(x.split())).plot(kind='hist', title='Distribution de la taille des textes')\n",
    "# explication : la plupart des textes ont une taille de 0 à 500 mots"
   ]
  },
  {
   "cell_type": "code",
   "execution_count": 20,
   "metadata": {},
   "outputs": [
    {
     "data": {
      "text/plain": [
       "<Axes: title={'center': 'Rapport entre la taille des textes et les \"our rating\"'}, xlabel='our rating'>"
      ]
     },
     "execution_count": 20,
     "metadata": {},
     "output_type": "execute_result"
    },
    {
     "data": {
      "image/png": "[encoded data removed]",
      "text/plain": [
       "<Figure size 640x480 with 1 Axes>"
      ]
     },
     "metadata": {},
     "output_type": "display_data"
    }
   ],
   "source": [
    "# histogramme raport entre la taille des textes et les 'our rating'\n",
    "df['text_len'] = df['text'].apply(lambda x: len(x.split()))\n",
    "df.groupby('our rating')['text_len'].mean().plot(kind='bar', title='Rapport entre la taille des textes et les \"our rating\"')"
   ]
  },
  {
   "cell_type": "code",
   "execution_count": 21,
   "metadata": {},
   "outputs": [
    {
     "data": {
      "text/plain": [
       "<Axes: title={'center': 'Répartition des \"our rating\"'}, ylabel='count'>"
      ]
     },
     "execution_count": 21,
     "metadata": {},
     "output_type": "execute_result"
    },
    {
     "data": {
      "image/png": "[encoded data removed]",
      "text/plain": [
       "<Figure size 640x480 with 1 Axes>"
      ]
     },
     "metadata": {},
     "output_type": "display_data"
    }
   ],
   "source": [
    "# camembert pour les 'our rating'\n",
    "df['our rating'].value_counts().plot(kind='pie', autopct='%1.1f%%', title='Répartition des \"our rating\"')"
   ]
  },
  {
   "cell_type": "code",
   "execution_count": 68,
   "metadata": {},
   "outputs": [
    {
     "data": {
      "text/plain": [
       "<Axes: title={'center': 'Les 10 mots les plus fréquents dans les textes vrai'}>"
      ]
     },
     "execution_count": 68,
     "metadata": {},
     "output_type": "execute_result"
    },
    {
     "data": {
      "image/png": "[encoded data removed]",
      "text/plain": [
       "<Figure size 640x480 with 1 Axes>"
      ]
     },
     "metadata": {},
     "output_type": "display_data"
    }
   ],
   "source": [
    "# faire la liste de tout les mots contenus dans les textes ou 'our rating' == 'false' apres le nettoyage\n",
    "words_true = ' '.join(df[df['our rating'] == 'false']['text'])\n",
    "words_true = words_true.split()\n",
    "words_true = pd.Series(words_true) # convertir la liste en serie\n",
    "\n",
    "words_true.value_counts().head(10).plot(kind='barh', title='Les 10 mots les plus fréquents dans les textes vrai')"
   ]
  },
  {
   "cell_type": "code",
   "execution_count": 66,
   "metadata": {},
   "outputs": [
    {
     "data": {
      "text/plain": [
       "<Axes: title={'center': 'Les 10 mots les plus fréquents dans les textes false'}>"
      ]
     },
     "execution_count": 66,
     "metadata": {},
     "output_type": "execute_result"
    },
    {
     "data": {
      "image/png": "[encoded data removed]",
      "text/plain": [
       "<Figure size 640x480 with 1 Axes>"
      ]
     },
     "metadata": {},
     "output_type": "display_data"
    }
   ],
   "source": [
    "# faire la liste de tout les mots contenus dans les textes ou 'our rating' == 'false' apres le nettoyage\n",
    "words_false = ' '.join(df[df['our rating'] == 'false']['text'])\n",
    "words_false =words_false.split()\n",
    "words_false = pd.Series(words_false) # convertir la liste en serie\n",
    "\n",
    "words_false.value_counts().head(10).plot(kind='barh', title='Les 10 mots les plus fréquents dans les textes false')"
   ]
  },
  {
   "cell_type": "code",
   "execution_count": 69,
   "metadata": {},
   "outputs": [
    {
     "data": {
      "text/plain": [
       "<Axes: title={'center': 'Les 10 mots les plus fréquents dans les textes dite \"mixture\"'}>"
      ]
     },
     "execution_count": 69,
     "metadata": {},
     "output_type": "execute_result"
    },
    {
     "data": {
      "image/png": "[encoded data removed]",
      "text/plain": [
       "<Figure size 640x480 with 1 Axes>"
      ]
     },
     "metadata": {},
     "output_type": "display_data"
    }
   ],
   "source": [
    "# faire la liste de tout les mots contenus dans les textes ou 'our rating' == 'mixture' apres le nettoyage\n",
    "words_mixt = ' '.join(df[df['our rating'] == 'mixture']['text'])\n",
    "words_mixt = words_mixt.split()\n",
    "words_mixt = pd.Series(words_mixt) # convertir la liste en serie\n",
    "\n",
    "words_mixt.value_counts().head(10).plot(kind='barh', title='Les 10 mots les plus fréquents dans les textes dite \"mixture\"')"
   ]
  },
  {
   "cell_type": "code",
   "execution_count": null,
   "metadata": {},
   "outputs": [],
   "source": []
  },
  {
   "cell_type": "code",
   "execution_count": 50,
   "metadata": {},
   "outputs": [
    {
     "data": {
      "text/plain": [
       "632"
      ]
     },
     "execution_count": 50,
     "metadata": {},
     "output_type": "execute_result"
    }
   ],
   "source": []
  },
  {
   "cell_type": "markdown",
   "metadata": {},
   "source": [
    "### Vectorize the textual data using bag-of-words, TP-IDF, n-grams, ect."
   ]
  },
  {
   "cell_type": "code",
   "execution_count": 23,
   "metadata": {},
   "outputs": [],
   "source": [
    "# Vectorisation des textes et le titre avec TfidfVectorizer\n",
    "from sklearn.feature_extraction.text import TfidfVectorizer\n",
    "tfidf = TfidfVectorizer()\n",
    "X_text_train = tfidf.fit_transform(df['text'])\n",
    "X_title_train = tfidf.fit_transform(df['title'])\n"
   ]
  },
  {
   "cell_type": "markdown",
   "metadata": {},
   "source": [
    "### Binary/multi-class classification"
   ]
  },
  {
   "cell_type": "code",
   "execution_count": 24,
   "metadata": {},
   "outputs": [
    {
     "data": {
      "text/plain": [
       "(1099, 4)"
      ]
     },
     "execution_count": 24,
     "metadata": {},
     "output_type": "execute_result"
    }
   ],
   "source": [
    "# Binarisation / multi-labelisation de la colonne 'our rating'\n",
    "from sklearn.preprocessing import LabelBinarizer\n",
    "lb = LabelBinarizer()\n",
    "y = lb.fit_transform(df['our rating'])\n",
    "y.shape"
   ]
  },
  {
   "cell_type": "markdown",
   "metadata": {},
   "source": [
    "### Comparare classifiers using virtualization"
   ]
  },
  {
   "cell_type": "markdown",
   "metadata": {},
   "source": []
  }
 ],
 "metadata": {
  "kernelspec": {
   "display_name": "Python 3",
   "language": "python",
   "name": "python3"
  },
  "language_info": {
   "codemirror_mode": {
    "name": "ipython",
    "version": 3
   },
   "file_extension": ".py",
   "mimetype": "text/x-python",
   "name": "python",
   "nbconvert_exporter": "python",
   "pygments_lexer": "ipython3",
   "version": "3.10.12"
  }
 },
 "nbformat": 4,
 "nbformat_minor": 2
}
